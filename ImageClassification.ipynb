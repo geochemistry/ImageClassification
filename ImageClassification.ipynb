{
 "cells": [
  {
   "cell_type": "markdown",
   "metadata": {
    "collapsed": true
   },
   "source": [
    "# 图片分类 （Image Classification）\n",
    "\n",
    "此项目的目标是对[CIFAR-10](https://www.cs.toronto.edu/~kriz/cifar.html) 中的图片进行分类。该数据集包含飞机、猫、狗和其他物体。导入数据后，首先对这些图片进行预处理，然后基于所有样本训练一个卷积神经网络。图片进行标准化（normalized），标签需要采用 one-hot 编码。\n",
    "\n",
    "## 1. 获取数据\n",
    "\n",
    "运行以下单元，以下载 [CIFAR-10](https://www.cs.toronto.edu/~kriz/cifar-10-python.tar.gz)。\n"
   ]
  },
  {
   "cell_type": "code",
   "execution_count": 1,
   "metadata": {},
   "outputs": [
    {
     "name": "stderr",
     "output_type": "stream",
     "text": [
      "D:\\Anaconda\\lib\\site-packages\\h5py\\__init__.py:36: FutureWarning: Conversion of the second argument of issubdtype from `float` to `np.floating` is deprecated. In future, it will be treated as `np.float64 == np.dtype(float).type`.\n",
      "  from ._conv import register_converters as _register_converters\n"
     ]
    },
    {
     "name": "stdout",
     "output_type": "stream",
     "text": [
      "All files found!\n"
     ]
    }
   ],
   "source": [
    "\"\"\"\n",
    "DON'T MODIFY ANYTHING IN THIS CELL THAT IS BELOW THIS LINE\n",
    "\"\"\"\n",
    "from urllib.request import urlretrieve\n",
    "from os.path import isfile, isdir\n",
    "from tqdm import tqdm\n",
    "import problem_unittests as tests\n",
    "import tarfile\n",
    "\n",
    "cifar10_dataset_folder_path = 'cifar-10-batches-py'\n",
    "\n",
    "# Use Floyd's cifar-10 dataset if present\n",
    "floyd_cifar10_location = '/cifar/cifar-10-python.tar.gz'\n",
    "if isfile(floyd_cifar10_location):\n",
    "    tar_gz_path = floyd_cifar10_location\n",
    "else:\n",
    "    tar_gz_path = 'cifar-10-python.tar.gz'\n",
    "\n",
    "class DLProgress(tqdm):\n",
    "    last_block = 0\n",
    "\n",
    "    def hook(self, block_num=1, block_size=1, total_size=None):\n",
    "        self.total = total_size\n",
    "        self.update((block_num - self.last_block) * block_size)\n",
    "        self.last_block = block_num\n",
    "\n",
    "if not isfile(tar_gz_path):\n",
    "    with DLProgress(unit='B', unit_scale=True, miniters=1, desc='CIFAR-10 Dataset') as pbar:\n",
    "        urlretrieve(\n",
    "            'https://www.cs.toronto.edu/~kriz/cifar-10-python.tar.gz',\n",
    "            tar_gz_path,\n",
    "            pbar.hook)\n",
    "\n",
    "if not isdir(cifar10_dataset_folder_path):\n",
    "    with tarfile.open(tar_gz_path) as tar:\n",
    "        tar.extractall()\n",
    "        tar.close()\n",
    "\n",
    "\n",
    "tests.test_folder_path(cifar10_dataset_folder_path)"
   ]
  },
  {
   "cell_type": "markdown",
   "metadata": {},
   "source": [
    "## 2. 探索数据\n",
    "\n",
    "该数据集分成了几部分／批次（batches），以免机器在计算时内存不足。CIFAR-10 数据集包含 5 个部分，名称分别为 `data_batch_1`、`data_batch_2`、`data_batch_3`、`data_batch_4`、`data_batch_5`。每个部分都包含以下某个类别的标签和图片：\n",
    "\n",
    "* 飞机\n",
    "* 汽车\n",
    "* 鸟类\n",
    "* 猫\n",
    "* 鹿\n",
    "* 狗\n",
    "* 青蛙\n",
    "* 马\n",
    "* 船只\n",
    "* 卡车\n",
    "\n",
    "了解数据集也是对数据进行预测的必经步骤。可以通过更改 `batch_id` 和 `sample_id` 探索下面的代码单元。`batch_id` 是数据集一个部分的 ID（1 到 5）。`sample_id` 是该部分中图片和标签对（label pair）的 ID。"
   ]
  },
  {
   "cell_type": "code",
   "execution_count": 2,
   "metadata": {},
   "outputs": [
    {
     "name": "stdout",
     "output_type": "stream",
     "text": [
      "\n",
      "Stats of batch 1:\n",
      "Samples: 10000\n",
      "Label Counts: {0: 1005, 1: 974, 2: 1032, 3: 1016, 4: 999, 5: 937, 6: 1030, 7: 1001, 8: 1025, 9: 981}\n",
      "First 20 Labels: [6, 9, 9, 4, 1, 1, 2, 7, 8, 3, 4, 7, 7, 2, 9, 9, 9, 3, 2, 6]\n",
      "\n",
      "Example of Image 7:\n",
      "Image - Min Value: 9 Max Value: 248\n",
      "Image - Shape: (32, 32, 3)\n",
      "Label - Label Id: 7 Name: horse\n"
     ]
    },
    {
     "data": {
      "image/png": "[encoded data removed]",
      "text/plain": [
       "<matplotlib.figure.Figure at 0x26cfd7150f0>"
      ]
     },
     "metadata": {
      "image/png": {
       "height": 250,
       "width": 253
      }
     },
     "output_type": "display_data"
    }
   ],
   "source": [
    "%matplotlib inline\n",
    "%config InlineBackend.figure_format = 'retina'\n",
    "\n",
    "import helper\n",
    "import numpy as np\n",
    "\n",
    "# Explore the dataset\n",
    "batch_id = 1\n",
    "sample_id = 7\n",
    "helper.display_stats(cifar10_dataset_folder_path, batch_id, sample_id)"
   ]
  },
  {
   "cell_type": "markdown",
   "metadata": {},
   "source": [
    "## 3. 实现预处理函数\n",
    "\n",
    "### 标准化\n",
    "\n",
    "在下面的单元中，实现 `normalize` 函数，传入图片数据 `x`，并返回标准化 Numpy 数组。值应该在 0 到 1 的范围内（含 0 和 1）。返回对象应该和 `x` 的形状一样。\n"
   ]
  },
  {
   "cell_type": "code",
   "execution_count": 3,
   "metadata": {},
   "outputs": [
    {
     "name": "stdout",
     "output_type": "stream",
     "text": [
      "Tests Passed\n"
     ]
    }
   ],
   "source": [
    "def normalize(x):\n",
    "    \"\"\"\n",
    "    Normalize a list of sample image data in the range of 0 to 1\n",
    "    : x: List of image data.  The image shape is (32, 32, 3)\n",
    "    : return: Numpy array of normalize data\n",
    "    \"\"\"\n",
    "    # TODO: Implement Function\n",
    "    xmax,xmin = x.max(),x.min()\n",
    "    return (x - xmin)/(xmax - xmin)\n",
    "\n",
    "\n",
    "\"\"\"\n",
    "DON'T MODIFY ANYTHING IN THIS CELL THAT IS BELOW THIS LINE\n",
    "\"\"\"\n",
    "tests.test_normalize(normalize)"
   ]
  },
  {
   "cell_type": "markdown",
   "metadata": {},
   "source": [
    "### One-hot 编码\n",
    "\n",
    "实现 `one_hot_encode` 函数， `x`，是一个标签列表。实现该函数，以返回为 one_hot 编码的 Numpy 数组的标签列表。标签的可能值为 0 到 9。每次调用 `one_hot_encode` 时，对于每个值，one_hot 编码函数应该返回相同的编码。确保将编码映射保存到该函数外面。\n"
   ]
  },
  {
   "cell_type": "code",
   "execution_count": 4,
   "metadata": {},
   "outputs": [
    {
     "name": "stdout",
     "output_type": "stream",
     "text": [
      "Tests Passed\n"
     ]
    }
   ],
   "source": [
    "def one_hot_encode(x):\n",
    "    \"\"\"\n",
    "    One hot encode a list of sample labels. Return a one-hot encoded vector for each label.\n",
    "    : x: List of sample Labels\n",
    "    : return: Numpy array of one-hot encoded labels\n",
    "    \"\"\"\n",
    "    # TODO: Implement Function\n",
    "    return np.eye(10)[x]\n",
    "    \n",
    "\n",
    "\"\"\"\n",
    "DON'T MODIFY ANYTHING IN THIS CELL THAT IS BELOW THIS LINE\n",
    "\"\"\"\n",
    "tests.test_one_hot_encode(one_hot_encode)"
   ]
  },
  {
   "cell_type": "markdown",
   "metadata": {},
   "source": [
    "## 4. 预处理所有数据并保存\n",
    "\n",
    "运行下方的代码单元，将预处理所有 CIFAR-10 数据，并保存到文件中。下面的代码还使用了 10% 的训练数据，用来验证。\n"
   ]
  },
  {
   "cell_type": "code",
   "execution_count": 5,
   "metadata": {},
   "outputs": [],
   "source": [
    "\"\"\"\n",
    "DON'T MODIFY ANYTHING IN THIS CELL\n",
    "\"\"\"\n",
    "# Preprocess Training, Validation, and Testing Data\n",
    "helper.preprocess_and_save_data(cifar10_dataset_folder_path, normalize, one_hot_encode)"
   ]
  },
  {
   "cell_type": "markdown",
   "metadata": {},
   "source": [
    "## 5. 检查点\n",
    "\n",
    "这是第一个检查点。如果需要重新启动该记事本，可以从这里开始。预处理的数据已保存到本地。\n"
   ]
  },
  {
   "cell_type": "code",
   "execution_count": 7,
   "metadata": {},
   "outputs": [],
   "source": [
    "\"\"\"\n",
    "DON'T MODIFY ANYTHING IN THIS CELL\n",
    "\"\"\"\n",
    "import pickle\n",
    "import problem_unittests as tests\n",
    "import helper\n",
    "\n",
    "# Load the Preprocessed Validation data\n",
    "valid_features, valid_labels = pickle.load(open('preprocess_validation.p', mode='rb'))"
   ]
  },
  {
   "cell_type": "markdown",
   "metadata": {},
   "source": [
    "## 6. 构建网络\n",
    "\n",
    "对于该神经网络，需要将每层都构建为一个函数。\n",
    "\n",
    "\n",
    "### 输入\n",
    "\n",
    "神经网络需要读取图片数据、one-hot 编码标签和丢弃保留概率（dropout keep probability）。需要实现的函数：\n",
    "\n",
    "* 实现 `neural_net_image_input`\n",
    " * 返回 [TF Placeholder](https://www.tensorflow.org/api_docs/python/tf/placeholder)\n",
    " * 使用 `image_shape` 设置形状，部分大小设为 `None`\n",
    " * 使用 [TF Placeholder](https://www.tensorflow.org/api_docs/python/tf/placeholder) 中的 TensorFlow `name` 参数对 TensorFlow 占位符 \"x\" 命名\n",
    "* 实现 `neural_net_label_input`\n",
    " * 返回 [TF Placeholder](https://www.tensorflow.org/api_docs/python/tf/placeholder)\n",
    " * 使用 `n_classes` 设置形状，部分大小设为 `None`\n",
    " * 使用 [TF Placeholder](https://www.tensorflow.org/api_docs/python/tf/placeholder) 中的 TensorFlow `name` 参数对 TensorFlow 占位符 \"y\" 命名\n",
    "* 实现 `neural_net_keep_prob_input`\n",
    " * 返回 [TF Placeholder](https://www.tensorflow.org/api_docs/python/tf/placeholder)，用于丢弃保留概率\n",
    " * 使用 [TF Placeholder](https://www.tensorflow.org/api_docs/python/tf/placeholder) 中的 TensorFlow `name` 参数对 TensorFlow 占位符 \"keep_prob\" 命名\n",
    "\n",
    "这些名称将在项目结束时，用于加载保存的模型。\n",
    "\n",
    "注意：TensorFlow 中的 `None` 表示形状可以是动态大小。"
   ]
  },
  {
   "cell_type": "code",
   "execution_count": 8,
   "metadata": {},
   "outputs": [
    {
     "name": "stdout",
     "output_type": "stream",
     "text": [
      "Image Input Tests Passed.\n",
      "Label Input Tests Passed.\n",
      "Keep Prob Tests Passed.\n"
     ]
    }
   ],
   "source": [
    "import tensorflow as tf\n",
    "\n",
    "def neural_net_image_input(image_shape):\n",
    "    \"\"\"\n",
    "    Return a Tensor for a batch of image input\n",
    "    : image_shape: Shape of the images\n",
    "    : return: Tensor for image input.\n",
    "    \"\"\"\n",
    "    # TODO: Implement Function\n",
    "    x = tf.placeholder(tf.float32, [None, image_shape[0], image_shape[1], image_shape[2]],name='x')\n",
    "    return x\n",
    "\n",
    "\n",
    "def neural_net_label_input(n_classes):\n",
    "    \"\"\"\n",
    "    Return a Tensor for a batch of label input\n",
    "    : n_classes: Number of classes\n",
    "    : return: Tensor for label input.\n",
    "    \"\"\"\n",
    "    # TODO: Implement Function\n",
    "    y = tf.placeholder(tf.float32, [None, n_classes],name='y')\n",
    "    return y\n",
    "\n",
    "\n",
    "def neural_net_keep_prob_input():\n",
    "    \"\"\"\n",
    "    Return a Tensor for keep probability\n",
    "    : return: Tensor for keep probability.\n",
    "    \"\"\"\n",
    "    # TODO: Implement Function\n",
    "    keep_prob = tf.placeholder(tf.float32,name='keep_prob')\n",
    "    return keep_prob\n",
    "\n",
    "\"\"\"\n",
    "DON'T MODIFY ANYTHING IN THIS CELL THAT IS BELOW THIS LINE\n",
    "\"\"\"\n",
    "tf.reset_default_graph()\n",
    "tests.test_nn_image_inputs(neural_net_image_input)\n",
    "tests.test_nn_label_inputs(neural_net_label_input)\n",
    "tests.test_nn_keep_prob_inputs(neural_net_keep_prob_input)"
   ]
  },
  {
   "cell_type": "markdown",
   "metadata": {},
   "source": [
    "### 卷积和最大池化层\n",
    "\n",
    "卷积层级适合处理图片。对于此代码单元，应该实现函数 `conv2d_maxpool` 以便应用卷积然后进行最大池化：\n",
    "\n",
    "* 使用 `conv_ksize`、`conv_num_outputs` 和 `x_tensor` 的形状创建权重（weight）和偏置（bias）。\n",
    "* 使用权重和 `conv_strides` 对 `x_tensor` 应用卷积。\n",
    " * 建议使用我们建议的间距（padding），当然也可以使用任何其他间距。\n",
    "* 添加偏置\n",
    "* 向卷积中添加非线性激活（nonlinear activation）\n",
    "* 使用 `pool_ksize` 和 `pool_strides` 应用最大池化\n",
    " \n"
   ]
  },
  {
   "cell_type": "code",
   "execution_count": 9,
   "metadata": {},
   "outputs": [
    {
     "name": "stdout",
     "output_type": "stream",
     "text": [
      "Tests Passed\n"
     ]
    }
   ],
   "source": [
    "def conv2d_maxpool(x_tensor, conv_num_outputs, conv_ksize, conv_strides, pool_ksize, pool_strides):\n",
    "    \"\"\"\n",
    "    Apply convolution then max pooling to x_tensor\n",
    "    :param x_tensor: TensorFlow Tensor\n",
    "    :param conv_num_outputs: Number of outputs for the convolutional layer\n",
    "    :param conv_ksize: kernal size 2-D Tuple for the convolutional layer\n",
    "    :param conv_strides: Stride 2-D Tuple for convolution\n",
    "    :param pool_ksize: kernal size 2-D Tuple for pool\n",
    "    :param pool_strides: Stride 2-D Tuple for pool\n",
    "    : return: A tensor that represents convolution and max pooling of x_tensor\n",
    "    \"\"\"\n",
    "    # TODO: Implement Function\n",
    "    weight = tf.Variable(tf.random_normal([conv_ksize[0], conv_ksize[1], x_tensor.get_shape().as_list()[-1], conv_num_outputs], stddev=5e-2))\n",
    "    bias = tf.Variable(tf.zeros(conv_num_outputs))\n",
    "\n",
    "    conv_layer = tf.nn.conv2d(x_tensor, weight, strides=[1, conv_strides[0], conv_strides[1], 1], padding='SAME')\n",
    "    conv_layer = tf.nn.bias_add(conv_layer, bias)\n",
    "    conv_layer = tf.nn.relu(conv_layer)\n",
    "\n",
    "    conv_layer = tf.nn.max_pool(conv_layer, ksize=[1, pool_ksize[0], pool_ksize[1], 1], strides=[1,pool_strides[0],pool_strides[1],1], padding='SAME')\n",
    "    return conv_layer\n",
    "\n",
    "\n",
    "\"\"\"\n",
    "DON'T MODIFY ANYTHING IN THIS CELL THAT IS BELOW THIS LINE\n",
    "\"\"\"\n",
    "tests.test_con_pool(conv2d_maxpool)"
   ]
  },
  {
   "cell_type": "markdown",
   "metadata": {},
   "source": [
    "### 扁平化层\n",
    "\n",
    "实现 `flatten` 函数，将 `x_tensor` 的维度从四维张量（4-D tensor）变成二维张量。输出应该是形状（*部分大小（Batch Size）*，*扁平化图片大小（Flattened Image Size）*）。"
   ]
  },
  {
   "cell_type": "code",
   "execution_count": 10,
   "metadata": {},
   "outputs": [
    {
     "name": "stdout",
     "output_type": "stream",
     "text": [
      "Tests Passed\n"
     ]
    }
   ],
   "source": [
    "def flatten(x_tensor):\n",
    "    \"\"\"\n",
    "    Flatten x_tensor to (Batch Size, Flattened Image Size)\n",
    "    : x_tensor: A tensor of size (Batch Size, ...), where ... are the image dimensions.\n",
    "    : return: A tensor of size (Batch Size, Flattened Image Size).\n",
    "    \"\"\"\n",
    "    # TODO: Implement Function\n",
    "    w1 = x_tensor.get_shape().as_list()[1]\n",
    "    h1 = x_tensor.get_shape().as_list()[2]\n",
    "    d1 = x_tensor.get_shape().as_list()[3]\n",
    "    x_flat = tf.reshape(x_tensor,[-1, w1 * h1 *d1])\n",
    "    return x_flat\n",
    "\n",
    "\n",
    "\"\"\"\n",
    "DON'T MODIFY ANYTHING IN THIS CELL THAT IS BELOW THIS LINE\n",
    "\"\"\"\n",
    "tests.test_flatten(flatten)"
   ]
  },
  {
   "cell_type": "markdown",
   "metadata": {},
   "source": [
    "### 全连接层\n",
    "\n",
    "实现 `fully_conn` 函数，以向 `x_tensor` 应用完全连接的层级，形状为（*部分大小（Batch Size）*，*num_outputs*）。"
   ]
  },
  {
   "cell_type": "code",
   "execution_count": 11,
   "metadata": {},
   "outputs": [
    {
     "name": "stdout",
     "output_type": "stream",
     "text": [
      "WARNING:tensorflow:From D:\\Anaconda\\lib\\site-packages\\tensorflow\\contrib\\learn\\python\\learn\\datasets\\base.py:198: retry (from tensorflow.contrib.learn.python.learn.datasets.base) is deprecated and will be removed in a future version.\n",
      "Instructions for updating:\n",
      "Use the retry module or similar alternatives.\n",
      "Tests Passed\n"
     ]
    }
   ],
   "source": [
    "def fully_conn(x_tensor, num_outputs):\n",
    "    \"\"\"\n",
    "    Apply a fully connected layer to x_tensor using weight and bias\n",
    "    : x_tensor: A 2-D tensor where the first dimension is batch size.\n",
    "    : num_outputs: The number of output that the new tensor should be.\n",
    "    : return: A 2-D tensor where the second dimension is num_outputs.\n",
    "    \"\"\"\n",
    "    # TODO: Implement Function\n",
    "    return tf.contrib.layers.fully_connected(x_tensor, num_outputs)\n",
    "\n",
    "\n",
    "\"\"\"\n",
    "DON'T MODIFY ANYTHING IN THIS CELL THAT IS BELOW THIS LINE\n",
    "\"\"\"\n",
    "tests.test_fully_conn(fully_conn)"
   ]
  },
  {
   "cell_type": "markdown",
   "metadata": {},
   "source": [
    "### 输出层\n",
    "\n",
    "实现 `output` 函数，向 x_tensor 应用完全连接的层级，形状为（*部分大小（Batch Size）*，*num_outputs*）。\n",
    "\n",
    "**注意**：该层级不应应用 Activation、softmax 或交叉熵（cross entropy）。"
   ]
  },
  {
   "cell_type": "code",
   "execution_count": 12,
   "metadata": {},
   "outputs": [
    {
     "name": "stdout",
     "output_type": "stream",
     "text": [
      "Tests Passed\n"
     ]
    }
   ],
   "source": [
    "def output(x_tensor, num_outputs):\n",
    "    \"\"\"\n",
    "    Apply a output layer to x_tensor using weight and bias\n",
    "    : x_tensor: A 2-D tensor where the first dimension is batch size.\n",
    "    : num_outputs: The number of output that the new tensor should be.\n",
    "    : return: A 2-D tensor where the second dimension is num_outputs.\n",
    "    \"\"\"\n",
    "    # TODO: Implement Function\n",
    "    return tf.contrib.layers.legacy_fully_connected(x_tensor, num_outputs)\n",
    "\n",
    "\n",
    "\"\"\"\n",
    "DON'T MODIFY ANYTHING IN THIS CELL THAT IS BELOW THIS LINE\n",
    "\"\"\"\n",
    "tests.test_output(output)"
   ]
  },
  {
   "cell_type": "markdown",
   "metadata": {},
   "source": [
    "### 创建卷积模型\n",
    "\n",
    "实现函数 `conv_net`， 创建卷积神经网络模型。该函数传入一批图片 `x`，并输出对数（logits）。使用上方创建的层创建此模型：\n",
    "\n",
    "* 应用 1、2 或 3 个卷积和最大池化层（Convolution and Max Pool layers）\n",
    "* 应用一个扁平层（Flatten Layer）\n",
    "* 应用 1、2 或 3 个完全连接层（Fully Connected Layers）\n",
    "* 应用一个输出层（Output Layer）\n",
    "* 返回输出\n",
    "* 使用 `keep_prob` 向模型中的一个或多个层应用 [TensorFlow 的 Dropout](https://www.tensorflow.org/api_docs/python/tf/nn/dropout)"
   ]
  },
  {
   "cell_type": "code",
   "execution_count": 13,
   "metadata": {},
   "outputs": [
    {
     "name": "stdout",
     "output_type": "stream",
     "text": [
      "WARNING:tensorflow:From <ipython-input-13-0fd65899007e>:64: softmax_cross_entropy_with_logits (from tensorflow.python.ops.nn_ops) is deprecated and will be removed in a future version.\n",
      "Instructions for updating:\n",
      "\n",
      "Future major versions of TensorFlow will allow gradients to flow\n",
      "into the labels input on backprop by default.\n",
      "\n",
      "See tf.nn.softmax_cross_entropy_with_logits_v2.\n",
      "\n",
      "Neural Network Built!\n"
     ]
    }
   ],
   "source": [
    "def conv_net(x, keep_prob):\n",
    "    \"\"\"\n",
    "    Create a convolutional neural network model\n",
    "    : x: Placeholder tensor that holds image data.\n",
    "    : keep_prob: Placeholder tensor that hold dropout keep probability.\n",
    "    : return: Tensor that represents logits\n",
    "    \"\"\"\n",
    "    # TODO: Apply 1, 2, or 3 Convolution and Max Pool layers\n",
    "    #    Play around with different number of outputs, kernel size and stride\n",
    "    # Function Definition from Above:\n",
    "    #    conv2d_maxpool(x_tensor, conv_num_outputs, conv_ksize, conv_strides, pool_ksize, pool_strides)\n",
    "    conv_num_outputs = 64\n",
    "    conv_ksize = (3, 3)\n",
    "    conv_strides = (1, 1)\n",
    "    pool_ksize = (2, 2)\n",
    "    pool_strides = (2, 2)\n",
    "    conv1 = conv2d_maxpool(x, conv_num_outputs, conv_ksize, conv_strides, pool_ksize, pool_strides)\n",
    "\n",
    "    # TODO: Apply a Flatten Layer\n",
    "    # Function Definition from Above:\n",
    "    #   flatten(x_tensor)\n",
    "    fc1 =  flatten(conv1)\n",
    "\n",
    "    # TODO: Apply 1, 2, or 3 Fully Connected Layers\n",
    "    #    Play around with different number of outputs\n",
    "    # Function Definition from Above:\n",
    "    #   fully_conn(x_tensor, num_outputs)\n",
    "    fc2 = fully_conn(fc1, 192)\n",
    "    fc3 = tf.nn.dropout(fc2, keep_prob)\n",
    "\n",
    "    # TODO: Apply an Output Layer\n",
    "    #    Set this to the number of classes\n",
    "    # Function Definition from Above:\n",
    "    #   output(x_tensor, num_outputs)\n",
    "    \n",
    "    out = output(fc3, 10)\n",
    "    # TODO: return output\n",
    "    return out\n",
    "\n",
    "\n",
    "\"\"\"\n",
    "DON'T MODIFY ANYTHING IN THIS CELL THAT IS BELOW THIS LINE\n",
    "\"\"\"\n",
    "\n",
    "##############################\n",
    "## Build the Neural Network ##\n",
    "##############################\n",
    "\n",
    "# Remove previous weights, bias, inputs, etc..\n",
    "tf.reset_default_graph()\n",
    "\n",
    "# Inputs\n",
    "x = neural_net_image_input((32, 32, 3))\n",
    "y = neural_net_label_input(10)\n",
    "keep_prob = neural_net_keep_prob_input()\n",
    "\n",
    "# Model\n",
    "logits = conv_net(x, keep_prob)\n",
    "\n",
    "# Name logits Tensor, so that is can be loaded from disk after training\n",
    "logits = tf.identity(logits, name='logits')\n",
    "\n",
    "# Loss and Optimizer\n",
    "cost = tf.reduce_mean(tf.nn.softmax_cross_entropy_with_logits(logits=logits, labels=y))\n",
    "optimizer = tf.train.AdamOptimizer().minimize(cost)\n",
    "\n",
    "# Accuracy\n",
    "correct_pred = tf.equal(tf.argmax(logits, 1), tf.argmax(y, 1))\n",
    "accuracy = tf.reduce_mean(tf.cast(correct_pred, tf.float32), name='accuracy')\n",
    "\n",
    "tests.test_conv_net(conv_net)"
   ]
  },
  {
   "cell_type": "markdown",
   "metadata": {},
   "source": [
    "## 7. 训练神经网络\n",
    "\n",
    "### 单次优化\n",
    "\n",
    "实现函数 `train_neural_network` 以进行单次优化（single optimization）。该优化应该使用 `optimizer` 优化 `session`，其中 `feed_dict` 具有以下参数：\n",
    "\n",
    "* `x` 表示图片输入\n",
    "* `y` 表示标签\n",
    "* `keep_prob` 表示丢弃的保留率\n",
    "\n",
    "每个部分都会调用该函数，所以 `tf.global_variables_initializer()` 已经被调用。\n",
    "\n",
    "注意：不需要返回任何内容。该函数只是用来优化神经网络。\n"
   ]
  },
  {
   "cell_type": "code",
   "execution_count": 14,
   "metadata": {},
   "outputs": [
    {
     "name": "stdout",
     "output_type": "stream",
     "text": [
      "Tests Passed\n"
     ]
    }
   ],
   "source": [
    "def train_neural_network(session, optimizer, keep_probability, feature_batch, label_batch):\n",
    "    \"\"\"\n",
    "    Optimize the session on a batch of images and labels\n",
    "    : session: Current TensorFlow session\n",
    "    : optimizer: TensorFlow optimizer function\n",
    "    : keep_probability: keep probability\n",
    "    : feature_batch: Batch of Numpy image data\n",
    "    : label_batch: Batch of Numpy label data\n",
    "    \"\"\"\n",
    "    # TODO: Implement Function\n",
    "    session.run(optimizer, feed_dict={\n",
    "                x: feature_batch,\n",
    "                y: label_batch,\n",
    "                keep_prob: keep_probability})\n",
    "\n",
    "\n",
    "\"\"\"\n",
    "DON'T MODIFY ANYTHING IN THIS CELL THAT IS BELOW THIS LINE\n",
    "\"\"\"\n",
    "tests.test_train_nn(train_neural_network)"
   ]
  },
  {
   "cell_type": "markdown",
   "metadata": {},
   "source": [
    "### 显示数据\n",
    "\n",
    "实现函数 `print_stats` 以输出损失和验证准确率。使用全局变量 `valid_features` 和 `valid_labels` 计算验证准确率。使用保留率 `1.0` 计算损失和验证准确率（loss and validation accuracy）。\n"
   ]
  },
  {
   "cell_type": "code",
   "execution_count": 15,
   "metadata": {},
   "outputs": [],
   "source": [
    "def print_stats(session, feature_batch, label_batch, cost, accuracy):\n",
    "    \"\"\"\n",
    "    Print information about loss and validation accuracy\n",
    "    : session: Current TensorFlow session\n",
    "    : feature_batch: Batch of Numpy image data\n",
    "    : label_batch: Batch of Numpy label data\n",
    "    : cost: TensorFlow cost function\n",
    "    : accuracy: TensorFlow accuracy function\n",
    "    \"\"\"\n",
    "    # TODO: Implement Function\n",
    "    loss = session.run(cost, feed_dict={\n",
    "                x: feature_batch,\n",
    "                y: label_batch,\n",
    "                keep_prob: 1.})\n",
    "    valid_acc = session.run(accuracy, feed_dict={\n",
    "                x: valid_features,\n",
    "                y: valid_labels,\n",
    "                keep_prob: 1.})\n",
    "\n",
    "    print('loss: {:>10.4f}, Validation Accuracy: {:.6f}'.format(loss,valid_acc))"
   ]
  },
  {
   "cell_type": "markdown",
   "metadata": {},
   "source": [
    "### 超参数\n",
    "\n",
    "调试以下超参数：\n",
    "* 设置 `epochs` 表示神经网络停止学习或开始过拟合的迭代次数\n",
    "* 设置 `batch_size`，表示机器内存允许的部分最大体积。大部分人设为以下常见内存大小：\n",
    "\n",
    " * 64\n",
    " * 128\n",
    " * 256\n",
    " * ...\n",
    "* 设置 `keep_probability` 表示使用丢弃时保留节点的概率"
   ]
  },
  {
   "cell_type": "code",
   "execution_count": 16,
   "metadata": {},
   "outputs": [],
   "source": [
    "# TODO: Tune Parameters\n",
    "epochs = 50\n",
    "batch_size = 128\n",
    "keep_probability = 0.5"
   ]
  },
  {
   "cell_type": "markdown",
   "metadata": {},
   "source": [
    "### 在单个 CIFAR-10 部分上训练\n",
    "\n",
    "先用单个部分，而不是用所有的 CIFAR-10 批次训练神经网络。这样可以节省时间，并对模型进行迭代，以提高准确率。最终验证准确率达到 50% 或以上之后，在下一部分对所有数据运行模型。\n"
   ]
  },
  {
   "cell_type": "code",
   "execution_count": 17,
   "metadata": {},
   "outputs": [
    {
     "name": "stdout",
     "output_type": "stream",
     "text": [
      "Checking the Training on a Single Batch...\n",
      "Epoch  1, CIFAR-10 Batch 1:  loss:     1.9130, Validation Accuracy: 0.417800\n",
      "Epoch  2, CIFAR-10 Batch 1:  loss:     1.6127, Validation Accuracy: 0.475200\n",
      "Epoch  3, CIFAR-10 Batch 1:  loss:     1.3846, Validation Accuracy: 0.491400\n",
      "Epoch  4, CIFAR-10 Batch 1:  loss:     1.1419, Validation Accuracy: 0.516600\n",
      "Epoch  5, CIFAR-10 Batch 1:  loss:     1.0127, Validation Accuracy: 0.521800\n",
      "Epoch  6, CIFAR-10 Batch 1:  loss:     0.9529, Validation Accuracy: 0.522000\n",
      "Epoch  7, CIFAR-10 Batch 1:  loss:     0.8144, Validation Accuracy: 0.534000\n",
      "Epoch  8, CIFAR-10 Batch 1:  loss:     0.6958, Validation Accuracy: 0.539600\n",
      "Epoch  9, CIFAR-10 Batch 1:  loss:     0.6032, Validation Accuracy: 0.546400\n",
      "Epoch 10, CIFAR-10 Batch 1:  loss:     0.5402, Validation Accuracy: 0.560600\n",
      "Epoch 11, CIFAR-10 Batch 1:  loss:     0.4903, Validation Accuracy: 0.544800\n",
      "Epoch 12, CIFAR-10 Batch 1:  loss:     0.4781, Validation Accuracy: 0.551400\n",
      "Epoch 13, CIFAR-10 Batch 1:  loss:     0.4381, Validation Accuracy: 0.555800\n",
      "Epoch 14, CIFAR-10 Batch 1:  loss:     0.3416, Validation Accuracy: 0.564200\n",
      "Epoch 15, CIFAR-10 Batch 1:  loss:     0.3637, Validation Accuracy: 0.559200\n",
      "Epoch 16, CIFAR-10 Batch 1:  loss:     0.2919, Validation Accuracy: 0.566800\n",
      "Epoch 17, CIFAR-10 Batch 1:  loss:     0.2662, Validation Accuracy: 0.571400\n",
      "Epoch 18, CIFAR-10 Batch 1:  loss:     0.2364, Validation Accuracy: 0.572400\n",
      "Epoch 19, CIFAR-10 Batch 1:  loss:     0.2382, Validation Accuracy: 0.560800\n",
      "Epoch 20, CIFAR-10 Batch 1:  loss:     0.2209, Validation Accuracy: 0.566000\n",
      "Epoch 21, CIFAR-10 Batch 1:  loss:     0.2036, Validation Accuracy: 0.561200\n",
      "Epoch 22, CIFAR-10 Batch 1:  loss:     0.1765, Validation Accuracy: 0.567000\n",
      "Epoch 23, CIFAR-10 Batch 1:  loss:     0.1763, Validation Accuracy: 0.572000\n",
      "Epoch 24, CIFAR-10 Batch 1:  loss:     0.1418, Validation Accuracy: 0.564800\n",
      "Epoch 25, CIFAR-10 Batch 1:  loss:     0.1523, Validation Accuracy: 0.558800\n",
      "Epoch 26, CIFAR-10 Batch 1:  loss:     0.1419, Validation Accuracy: 0.553600\n",
      "Epoch 27, CIFAR-10 Batch 1:  loss:     0.1129, Validation Accuracy: 0.562600\n",
      "Epoch 28, CIFAR-10 Batch 1:  loss:     0.1124, Validation Accuracy: 0.555200\n",
      "Epoch 29, CIFAR-10 Batch 1:  loss:     0.0891, Validation Accuracy: 0.557200\n",
      "Epoch 30, CIFAR-10 Batch 1:  loss:     0.0896, Validation Accuracy: 0.550200\n",
      "Epoch 31, CIFAR-10 Batch 1:  loss:     0.0788, Validation Accuracy: 0.553000\n",
      "Epoch 32, CIFAR-10 Batch 1:  loss:     0.0869, Validation Accuracy: 0.550800\n",
      "Epoch 33, CIFAR-10 Batch 1:  loss:     0.0797, Validation Accuracy: 0.552200\n",
      "Epoch 34, CIFAR-10 Batch 1:  loss:     0.0673, Validation Accuracy: 0.551800\n",
      "Epoch 35, CIFAR-10 Batch 1:  loss:     0.0603, Validation Accuracy: 0.552600\n",
      "Epoch 36, CIFAR-10 Batch 1:  loss:     0.0577, Validation Accuracy: 0.551800\n",
      "Epoch 37, CIFAR-10 Batch 1:  loss:     0.0489, Validation Accuracy: 0.548000\n",
      "Epoch 38, CIFAR-10 Batch 1:  loss:     0.0390, Validation Accuracy: 0.551400\n",
      "Epoch 39, CIFAR-10 Batch 1:  loss:     0.0429, Validation Accuracy: 0.564400\n",
      "Epoch 40, CIFAR-10 Batch 1:  loss:     0.0315, Validation Accuracy: 0.551000\n",
      "Epoch 41, CIFAR-10 Batch 1:  loss:     0.0348, Validation Accuracy: 0.552800\n",
      "Epoch 42, CIFAR-10 Batch 1:  loss:     0.0261, Validation Accuracy: 0.551000\n",
      "Epoch 43, CIFAR-10 Batch 1:  loss:     0.0239, Validation Accuracy: 0.553800\n",
      "Epoch 44, CIFAR-10 Batch 1:  loss:     0.0294, Validation Accuracy: 0.558000\n",
      "Epoch 45, CIFAR-10 Batch 1:  loss:     0.0208, Validation Accuracy: 0.562400\n",
      "Epoch 46, CIFAR-10 Batch 1:  loss:     0.0235, Validation Accuracy: 0.566400\n",
      "Epoch 47, CIFAR-10 Batch 1:  loss:     0.0198, Validation Accuracy: 0.553600\n",
      "Epoch 48, CIFAR-10 Batch 1:  loss:     0.0203, Validation Accuracy: 0.556200\n",
      "Epoch 49, CIFAR-10 Batch 1:  loss:     0.0208, Validation Accuracy: 0.555200\n",
      "Epoch 50, CIFAR-10 Batch 1:  loss:     0.0175, Validation Accuracy: 0.555800\n"
     ]
    }
   ],
   "source": [
    "\"\"\"\n",
    "DON'T MODIFY ANYTHING IN THIS CELL\n",
    "\"\"\"\n",
    "print('Checking the Training on a Single Batch...')\n",
    "with tf.Session() as sess:\n",
    "    # Initializing the variables\n",
    "    sess.run(tf.global_variables_initializer())\n",
    "    \n",
    "    # Training cycle\n",
    "    for epoch in range(epochs):\n",
    "        batch_i = 1\n",
    "        for batch_features, batch_labels in helper.load_preprocess_training_batch(batch_i, batch_size):\n",
    "            train_neural_network(sess, optimizer, keep_probability, batch_features, batch_labels)\n",
    "        print('Epoch {:>2}, CIFAR-10 Batch {}:  '.format(epoch + 1, batch_i), end='')\n",
    "        print_stats(sess, batch_features, batch_labels, cost, accuracy)"
   ]
  },
  {
   "cell_type": "markdown",
   "metadata": {},
   "source": [
    "### 完全训练模型\n",
    "\n"
   ]
  },
  {
   "cell_type": "code",
   "execution_count": 18,
   "metadata": {},
   "outputs": [
    {
     "name": "stdout",
     "output_type": "stream",
     "text": [
      "Training...\n",
      "Epoch  1, CIFAR-10 Batch 1:  loss:     2.0018, Validation Accuracy: 0.412200\n",
      "Epoch  1, CIFAR-10 Batch 2:  loss:     1.5809, Validation Accuracy: 0.458200\n",
      "Epoch  1, CIFAR-10 Batch 3:  loss:     1.3941, Validation Accuracy: 0.482600\n",
      "Epoch  1, CIFAR-10 Batch 4:  loss:     1.4223, Validation Accuracy: 0.504200\n",
      "Epoch  1, CIFAR-10 Batch 5:  loss:     1.3825, Validation Accuracy: 0.538800\n",
      "Epoch  2, CIFAR-10 Batch 1:  loss:     1.5026, Validation Accuracy: 0.538200\n",
      "Epoch  2, CIFAR-10 Batch 2:  loss:     1.1255, Validation Accuracy: 0.557800\n",
      "Epoch  2, CIFAR-10 Batch 3:  loss:     1.0686, Validation Accuracy: 0.552400\n",
      "Epoch  2, CIFAR-10 Batch 4:  loss:     1.1985, Validation Accuracy: 0.560600\n",
      "Epoch  2, CIFAR-10 Batch 5:  loss:     1.1288, Validation Accuracy: 0.568200\n",
      "Epoch  3, CIFAR-10 Batch 1:  loss:     1.1800, Validation Accuracy: 0.577600\n",
      "Epoch  3, CIFAR-10 Batch 2:  loss:     0.9671, Validation Accuracy: 0.581400\n",
      "Epoch  3, CIFAR-10 Batch 3:  loss:     0.9230, Validation Accuracy: 0.571800\n",
      "Epoch  3, CIFAR-10 Batch 4:  loss:     1.0563, Validation Accuracy: 0.595800\n",
      "Epoch  3, CIFAR-10 Batch 5:  loss:     0.9771, Validation Accuracy: 0.597400\n",
      "Epoch  4, CIFAR-10 Batch 1:  loss:     1.0559, Validation Accuracy: 0.598400\n",
      "Epoch  4, CIFAR-10 Batch 2:  loss:     0.8444, Validation Accuracy: 0.587400\n",
      "Epoch  4, CIFAR-10 Batch 3:  loss:     0.7489, Validation Accuracy: 0.594200\n",
      "Epoch  4, CIFAR-10 Batch 4:  loss:     0.9704, Validation Accuracy: 0.608600\n",
      "Epoch  4, CIFAR-10 Batch 5:  loss:     0.9010, Validation Accuracy: 0.600400\n",
      "Epoch  5, CIFAR-10 Batch 1:  loss:     0.8957, Validation Accuracy: 0.610800\n",
      "Epoch  5, CIFAR-10 Batch 2:  loss:     0.7499, Validation Accuracy: 0.613000\n",
      "Epoch  5, CIFAR-10 Batch 3:  loss:     0.6812, Validation Accuracy: 0.598800\n",
      "Epoch  5, CIFAR-10 Batch 4:  loss:     0.8590, Validation Accuracy: 0.620200\n",
      "Epoch  5, CIFAR-10 Batch 5:  loss:     0.7760, Validation Accuracy: 0.618600\n",
      "Epoch  6, CIFAR-10 Batch 1:  loss:     0.8505, Validation Accuracy: 0.621000\n",
      "Epoch  6, CIFAR-10 Batch 2:  loss:     0.7049, Validation Accuracy: 0.604800\n",
      "Epoch  6, CIFAR-10 Batch 3:  loss:     0.6481, Validation Accuracy: 0.613200\n",
      "Epoch  6, CIFAR-10 Batch 4:  loss:     0.7492, Validation Accuracy: 0.621000\n",
      "Epoch  6, CIFAR-10 Batch 5:  loss:     0.6662, Validation Accuracy: 0.628800\n",
      "Epoch  7, CIFAR-10 Batch 1:  loss:     0.7523, Validation Accuracy: 0.627400\n",
      "Epoch  7, CIFAR-10 Batch 2:  loss:     0.6496, Validation Accuracy: 0.615800\n",
      "Epoch  7, CIFAR-10 Batch 3:  loss:     0.5648, Validation Accuracy: 0.621200\n",
      "Epoch  7, CIFAR-10 Batch 4:  loss:     0.6459, Validation Accuracy: 0.624200\n",
      "Epoch  7, CIFAR-10 Batch 5:  loss:     0.5773, Validation Accuracy: 0.633000\n",
      "Epoch  8, CIFAR-10 Batch 1:  loss:     0.6884, Validation Accuracy: 0.626000\n",
      "Epoch  8, CIFAR-10 Batch 2:  loss:     0.5568, Validation Accuracy: 0.635600\n",
      "Epoch  8, CIFAR-10 Batch 3:  loss:     0.4806, Validation Accuracy: 0.627800\n",
      "Epoch  8, CIFAR-10 Batch 4:  loss:     0.5785, Validation Accuracy: 0.633000\n",
      "Epoch  8, CIFAR-10 Batch 5:  loss:     0.5346, Validation Accuracy: 0.645600\n",
      "Epoch  9, CIFAR-10 Batch 1:  loss:     0.6096, Validation Accuracy: 0.632800\n",
      "Epoch  9, CIFAR-10 Batch 2:  loss:     0.4863, Validation Accuracy: 0.645800\n",
      "Epoch  9, CIFAR-10 Batch 3:  loss:     0.4775, Validation Accuracy: 0.632800\n",
      "Epoch  9, CIFAR-10 Batch 4:  loss:     0.5663, Validation Accuracy: 0.634400\n",
      "Epoch  9, CIFAR-10 Batch 5:  loss:     0.4790, Validation Accuracy: 0.643600\n",
      "Epoch 10, CIFAR-10 Batch 1:  loss:     0.5327, Validation Accuracy: 0.641000\n",
      "Epoch 10, CIFAR-10 Batch 2:  loss:     0.4487, Validation Accuracy: 0.642000\n",
      "Epoch 10, CIFAR-10 Batch 3:  loss:     0.4142, Validation Accuracy: 0.649200\n",
      "Epoch 10, CIFAR-10 Batch 4:  loss:     0.4807, Validation Accuracy: 0.641800\n",
      "Epoch 10, CIFAR-10 Batch 5:  loss:     0.4542, Validation Accuracy: 0.644200\n",
      "Epoch 11, CIFAR-10 Batch 1:  loss:     0.5224, Validation Accuracy: 0.638000\n",
      "Epoch 11, CIFAR-10 Batch 2:  loss:     0.4152, Validation Accuracy: 0.645600\n",
      "Epoch 11, CIFAR-10 Batch 3:  loss:     0.3869, Validation Accuracy: 0.638800\n",
      "Epoch 11, CIFAR-10 Batch 4:  loss:     0.3992, Validation Accuracy: 0.641400\n",
      "Epoch 11, CIFAR-10 Batch 5:  loss:     0.4083, Validation Accuracy: 0.648400\n",
      "Epoch 12, CIFAR-10 Batch 1:  loss:     0.4466, Validation Accuracy: 0.639600\n",
      "Epoch 12, CIFAR-10 Batch 2:  loss:     0.3414, Validation Accuracy: 0.655000\n",
      "Epoch 12, CIFAR-10 Batch 3:  loss:     0.3700, Validation Accuracy: 0.652200\n",
      "Epoch 12, CIFAR-10 Batch 4:  loss:     0.3913, Validation Accuracy: 0.650400\n",
      "Epoch 12, CIFAR-10 Batch 5:  loss:     0.3624, Validation Accuracy: 0.656000\n",
      "Epoch 13, CIFAR-10 Batch 1:  loss:     0.4152, Validation Accuracy: 0.645800\n",
      "Epoch 13, CIFAR-10 Batch 2:  loss:     0.3281, Validation Accuracy: 0.655600\n",
      "Epoch 13, CIFAR-10 Batch 3:  loss:     0.2808, Validation Accuracy: 0.652800\n",
      "Epoch 13, CIFAR-10 Batch 4:  loss:     0.3557, Validation Accuracy: 0.660400\n",
      "Epoch 13, CIFAR-10 Batch 5:  loss:     0.3101, Validation Accuracy: 0.652400\n",
      "Epoch 14, CIFAR-10 Batch 1:  loss:     0.4287, Validation Accuracy: 0.641600\n",
      "Epoch 14, CIFAR-10 Batch 2:  loss:     0.3269, Validation Accuracy: 0.653600\n",
      "Epoch 14, CIFAR-10 Batch 3:  loss:     0.2560, Validation Accuracy: 0.652200\n",
      "Epoch 14, CIFAR-10 Batch 4:  loss:     0.3254, Validation Accuracy: 0.651000\n",
      "Epoch 14, CIFAR-10 Batch 5:  loss:     0.3071, Validation Accuracy: 0.654800\n",
      "Epoch 15, CIFAR-10 Batch 1:  loss:     0.3497, Validation Accuracy: 0.660600\n",
      "Epoch 15, CIFAR-10 Batch 2:  loss:     0.3029, Validation Accuracy: 0.652800\n",
      "Epoch 15, CIFAR-10 Batch 3:  loss:     0.3041, Validation Accuracy: 0.646600\n",
      "Epoch 15, CIFAR-10 Batch 4:  loss:     0.3130, Validation Accuracy: 0.648200\n",
      "Epoch 15, CIFAR-10 Batch 5:  loss:     0.3037, Validation Accuracy: 0.646200\n",
      "Epoch 16, CIFAR-10 Batch 1:  loss:     0.3276, Validation Accuracy: 0.654600\n",
      "Epoch 16, CIFAR-10 Batch 2:  loss:     0.2675, Validation Accuracy: 0.652000\n",
      "Epoch 16, CIFAR-10 Batch 3:  loss:     0.3209, Validation Accuracy: 0.616000\n",
      "Epoch 16, CIFAR-10 Batch 4:  loss:     0.2515, Validation Accuracy: 0.651400\n",
      "Epoch 16, CIFAR-10 Batch 5:  loss:     0.2363, Validation Accuracy: 0.656200\n",
      "Epoch 17, CIFAR-10 Batch 1:  loss:     0.3293, Validation Accuracy: 0.656000\n",
      "Epoch 17, CIFAR-10 Batch 2:  loss:     0.2600, Validation Accuracy: 0.650600\n",
      "Epoch 17, CIFAR-10 Batch 3:  loss:     0.2342, Validation Accuracy: 0.652200\n",
      "Epoch 17, CIFAR-10 Batch 4:  loss:     0.2477, Validation Accuracy: 0.648200\n",
      "Epoch 17, CIFAR-10 Batch 5:  loss:     0.2275, Validation Accuracy: 0.652200\n",
      "Epoch 18, CIFAR-10 Batch 1:  loss:     0.2336, Validation Accuracy: 0.655400\n",
      "Epoch 18, CIFAR-10 Batch 2:  loss:     0.1980, Validation Accuracy: 0.653000\n",
      "Epoch 18, CIFAR-10 Batch 3:  loss:     0.2362, Validation Accuracy: 0.629800\n",
      "Epoch 18, CIFAR-10 Batch 4:  loss:     0.2440, Validation Accuracy: 0.651800\n",
      "Epoch 18, CIFAR-10 Batch 5:  loss:     0.2085, Validation Accuracy: 0.656600\n",
      "Epoch 19, CIFAR-10 Batch 1:  loss:     0.2378, Validation Accuracy: 0.656600\n",
      "Epoch 19, CIFAR-10 Batch 2:  loss:     0.2133, Validation Accuracy: 0.653000\n",
      "Epoch 19, CIFAR-10 Batch 3:  loss:     0.1710, Validation Accuracy: 0.651800\n",
      "Epoch 19, CIFAR-10 Batch 4:  loss:     0.2096, Validation Accuracy: 0.652600\n",
      "Epoch 19, CIFAR-10 Batch 5:  loss:     0.1974, Validation Accuracy: 0.655800\n",
      "Epoch 20, CIFAR-10 Batch 1:  loss:     0.2670, Validation Accuracy: 0.641200\n",
      "Epoch 20, CIFAR-10 Batch 2:  loss:     0.2164, Validation Accuracy: 0.647200\n",
      "Epoch 20, CIFAR-10 Batch 3:  loss:     0.1484, Validation Accuracy: 0.642200\n",
      "Epoch 20, CIFAR-10 Batch 4:  loss:     0.2036, Validation Accuracy: 0.653800\n",
      "Epoch 20, CIFAR-10 Batch 5:  loss:     0.1635, Validation Accuracy: 0.658200\n",
      "Epoch 21, CIFAR-10 Batch 1:  loss:     0.2163, Validation Accuracy: 0.657400\n",
      "Epoch 21, CIFAR-10 Batch 2:  loss:     0.1775, Validation Accuracy: 0.660600\n",
      "Epoch 21, CIFAR-10 Batch 3:  loss:     0.1478, Validation Accuracy: 0.652600\n",
      "Epoch 21, CIFAR-10 Batch 4:  loss:     0.1720, Validation Accuracy: 0.649000\n",
      "Epoch 21, CIFAR-10 Batch 5:  loss:     0.1721, Validation Accuracy: 0.653000\n",
      "Epoch 22, CIFAR-10 Batch 1:  loss:     0.1908, Validation Accuracy: 0.656800\n"
     ]
    },
    {
     "name": "stdout",
     "output_type": "stream",
     "text": [
      "Epoch 22, CIFAR-10 Batch 2:  loss:     0.1489, Validation Accuracy: 0.659200\n",
      "Epoch 22, CIFAR-10 Batch 3:  loss:     0.1509, Validation Accuracy: 0.640800\n",
      "Epoch 22, CIFAR-10 Batch 4:  loss:     0.1653, Validation Accuracy: 0.656400\n",
      "Epoch 22, CIFAR-10 Batch 5:  loss:     0.1653, Validation Accuracy: 0.658400\n",
      "Epoch 23, CIFAR-10 Batch 1:  loss:     0.1860, Validation Accuracy: 0.656800\n",
      "Epoch 23, CIFAR-10 Batch 2:  loss:     0.1321, Validation Accuracy: 0.659200\n",
      "Epoch 23, CIFAR-10 Batch 3:  loss:     0.1553, Validation Accuracy: 0.656800\n",
      "Epoch 23, CIFAR-10 Batch 4:  loss:     0.1766, Validation Accuracy: 0.655200\n",
      "Epoch 23, CIFAR-10 Batch 5:  loss:     0.1578, Validation Accuracy: 0.654600\n",
      "Epoch 24, CIFAR-10 Batch 1:  loss:     0.1844, Validation Accuracy: 0.659200\n",
      "Epoch 24, CIFAR-10 Batch 2:  loss:     0.1463, Validation Accuracy: 0.666200\n",
      "Epoch 24, CIFAR-10 Batch 3:  loss:     0.1277, Validation Accuracy: 0.648800\n",
      "Epoch 24, CIFAR-10 Batch 4:  loss:     0.1579, Validation Accuracy: 0.652000\n",
      "Epoch 24, CIFAR-10 Batch 5:  loss:     0.1470, Validation Accuracy: 0.657600\n",
      "Epoch 25, CIFAR-10 Batch 1:  loss:     0.1439, Validation Accuracy: 0.656600\n",
      "Epoch 25, CIFAR-10 Batch 2:  loss:     0.1027, Validation Accuracy: 0.659200\n",
      "Epoch 25, CIFAR-10 Batch 3:  loss:     0.1039, Validation Accuracy: 0.648400\n",
      "Epoch 25, CIFAR-10 Batch 4:  loss:     0.1294, Validation Accuracy: 0.652000\n",
      "Epoch 25, CIFAR-10 Batch 5:  loss:     0.1092, Validation Accuracy: 0.661600\n",
      "Epoch 26, CIFAR-10 Batch 1:  loss:     0.1626, Validation Accuracy: 0.662000\n",
      "Epoch 26, CIFAR-10 Batch 2:  loss:     0.0855, Validation Accuracy: 0.662600\n",
      "Epoch 26, CIFAR-10 Batch 3:  loss:     0.0885, Validation Accuracy: 0.644600\n",
      "Epoch 26, CIFAR-10 Batch 4:  loss:     0.1296, Validation Accuracy: 0.641800\n",
      "Epoch 26, CIFAR-10 Batch 5:  loss:     0.1041, Validation Accuracy: 0.656800\n",
      "Epoch 27, CIFAR-10 Batch 1:  loss:     0.1442, Validation Accuracy: 0.647400\n",
      "Epoch 27, CIFAR-10 Batch 2:  loss:     0.0893, Validation Accuracy: 0.655800\n",
      "Epoch 27, CIFAR-10 Batch 3:  loss:     0.0786, Validation Accuracy: 0.649800\n",
      "Epoch 27, CIFAR-10 Batch 4:  loss:     0.1074, Validation Accuracy: 0.655000\n",
      "Epoch 27, CIFAR-10 Batch 5:  loss:     0.0990, Validation Accuracy: 0.663600\n",
      "Epoch 28, CIFAR-10 Batch 1:  loss:     0.1392, Validation Accuracy: 0.650600\n",
      "Epoch 28, CIFAR-10 Batch 2:  loss:     0.0663, Validation Accuracy: 0.654000\n",
      "Epoch 28, CIFAR-10 Batch 3:  loss:     0.0779, Validation Accuracy: 0.644400\n",
      "Epoch 28, CIFAR-10 Batch 4:  loss:     0.1045, Validation Accuracy: 0.644600\n",
      "Epoch 28, CIFAR-10 Batch 5:  loss:     0.0940, Validation Accuracy: 0.658200\n",
      "Epoch 29, CIFAR-10 Batch 1:  loss:     0.0988, Validation Accuracy: 0.656400\n",
      "Epoch 29, CIFAR-10 Batch 2:  loss:     0.0725, Validation Accuracy: 0.660200\n",
      "Epoch 29, CIFAR-10 Batch 3:  loss:     0.0723, Validation Accuracy: 0.644200\n",
      "Epoch 29, CIFAR-10 Batch 4:  loss:     0.0737, Validation Accuracy: 0.650200\n",
      "Epoch 29, CIFAR-10 Batch 5:  loss:     0.0936, Validation Accuracy: 0.656000\n",
      "Epoch 30, CIFAR-10 Batch 1:  loss:     0.1114, Validation Accuracy: 0.652000\n",
      "Epoch 30, CIFAR-10 Batch 2:  loss:     0.0649, Validation Accuracy: 0.659800\n",
      "Epoch 30, CIFAR-10 Batch 3:  loss:     0.0672, Validation Accuracy: 0.652000\n",
      "Epoch 30, CIFAR-10 Batch 4:  loss:     0.0967, Validation Accuracy: 0.649600\n",
      "Epoch 30, CIFAR-10 Batch 5:  loss:     0.0627, Validation Accuracy: 0.657800\n",
      "Epoch 31, CIFAR-10 Batch 1:  loss:     0.0915, Validation Accuracy: 0.648000\n",
      "Epoch 31, CIFAR-10 Batch 2:  loss:     0.0786, Validation Accuracy: 0.647200\n",
      "Epoch 31, CIFAR-10 Batch 3:  loss:     0.0684, Validation Accuracy: 0.647200\n",
      "Epoch 31, CIFAR-10 Batch 4:  loss:     0.0667, Validation Accuracy: 0.646600\n",
      "Epoch 31, CIFAR-10 Batch 5:  loss:     0.0793, Validation Accuracy: 0.658800\n",
      "Epoch 32, CIFAR-10 Batch 1:  loss:     0.0844, Validation Accuracy: 0.648600\n",
      "Epoch 32, CIFAR-10 Batch 2:  loss:     0.0637, Validation Accuracy: 0.651800\n",
      "Epoch 32, CIFAR-10 Batch 3:  loss:     0.0692, Validation Accuracy: 0.648400\n",
      "Epoch 32, CIFAR-10 Batch 4:  loss:     0.0847, Validation Accuracy: 0.648000\n",
      "Epoch 32, CIFAR-10 Batch 5:  loss:     0.0727, Validation Accuracy: 0.657600\n",
      "Epoch 33, CIFAR-10 Batch 1:  loss:     0.0930, Validation Accuracy: 0.649600\n",
      "Epoch 33, CIFAR-10 Batch 2:  loss:     0.0632, Validation Accuracy: 0.661400\n",
      "Epoch 33, CIFAR-10 Batch 3:  loss:     0.0537, Validation Accuracy: 0.642600\n",
      "Epoch 33, CIFAR-10 Batch 4:  loss:     0.0838, Validation Accuracy: 0.645000\n",
      "Epoch 33, CIFAR-10 Batch 5:  loss:     0.0739, Validation Accuracy: 0.657200\n",
      "Epoch 34, CIFAR-10 Batch 1:  loss:     0.0811, Validation Accuracy: 0.650800\n",
      "Epoch 34, CIFAR-10 Batch 2:  loss:     0.0484, Validation Accuracy: 0.662600\n",
      "Epoch 34, CIFAR-10 Batch 3:  loss:     0.0455, Validation Accuracy: 0.639600\n",
      "Epoch 34, CIFAR-10 Batch 4:  loss:     0.0623, Validation Accuracy: 0.649800\n",
      "Epoch 34, CIFAR-10 Batch 5:  loss:     0.0575, Validation Accuracy: 0.654600\n",
      "Epoch 35, CIFAR-10 Batch 1:  loss:     0.0712, Validation Accuracy: 0.653800\n",
      "Epoch 35, CIFAR-10 Batch 2:  loss:     0.0538, Validation Accuracy: 0.648800\n",
      "Epoch 35, CIFAR-10 Batch 3:  loss:     0.0470, Validation Accuracy: 0.645000\n",
      "Epoch 35, CIFAR-10 Batch 4:  loss:     0.0587, Validation Accuracy: 0.646800\n",
      "Epoch 35, CIFAR-10 Batch 5:  loss:     0.0524, Validation Accuracy: 0.659800\n",
      "Epoch 36, CIFAR-10 Batch 1:  loss:     0.0749, Validation Accuracy: 0.635000\n",
      "Epoch 36, CIFAR-10 Batch 2:  loss:     0.0422, Validation Accuracy: 0.658800\n",
      "Epoch 36, CIFAR-10 Batch 3:  loss:     0.0436, Validation Accuracy: 0.646200\n",
      "Epoch 36, CIFAR-10 Batch 4:  loss:     0.0471, Validation Accuracy: 0.643000\n",
      "Epoch 36, CIFAR-10 Batch 5:  loss:     0.0597, Validation Accuracy: 0.652600\n",
      "Epoch 37, CIFAR-10 Batch 1:  loss:     0.0725, Validation Accuracy: 0.647800\n",
      "Epoch 37, CIFAR-10 Batch 2:  loss:     0.0428, Validation Accuracy: 0.640400\n",
      "Epoch 37, CIFAR-10 Batch 3:  loss:     0.0399, Validation Accuracy: 0.654200\n",
      "Epoch 37, CIFAR-10 Batch 4:  loss:     0.0444, Validation Accuracy: 0.644000\n",
      "Epoch 37, CIFAR-10 Batch 5:  loss:     0.0552, Validation Accuracy: 0.655000\n",
      "Epoch 38, CIFAR-10 Batch 1:  loss:     0.0859, Validation Accuracy: 0.653400\n",
      "Epoch 38, CIFAR-10 Batch 2:  loss:     0.0316, Validation Accuracy: 0.648400\n",
      "Epoch 38, CIFAR-10 Batch 3:  loss:     0.0539, Validation Accuracy: 0.653800\n",
      "Epoch 38, CIFAR-10 Batch 4:  loss:     0.0581, Validation Accuracy: 0.636800\n",
      "Epoch 38, CIFAR-10 Batch 5:  loss:     0.0355, Validation Accuracy: 0.654000\n",
      "Epoch 39, CIFAR-10 Batch 1:  loss:     0.0618, Validation Accuracy: 0.645600\n",
      "Epoch 39, CIFAR-10 Batch 2:  loss:     0.0295, Validation Accuracy: 0.646600\n",
      "Epoch 39, CIFAR-10 Batch 3:  loss:     0.0389, Validation Accuracy: 0.651800\n",
      "Epoch 39, CIFAR-10 Batch 4:  loss:     0.0574, Validation Accuracy: 0.647000\n",
      "Epoch 39, CIFAR-10 Batch 5:  loss:     0.0319, Validation Accuracy: 0.655800\n",
      "Epoch 40, CIFAR-10 Batch 1:  loss:     0.0650, Validation Accuracy: 0.657000\n",
      "Epoch 40, CIFAR-10 Batch 2:  loss:     0.0307, Validation Accuracy: 0.650200\n",
      "Epoch 40, CIFAR-10 Batch 3:  loss:     0.0351, Validation Accuracy: 0.660200\n",
      "Epoch 40, CIFAR-10 Batch 4:  loss:     0.0504, Validation Accuracy: 0.646000\n",
      "Epoch 40, CIFAR-10 Batch 5:  loss:     0.0294, Validation Accuracy: 0.656000\n",
      "Epoch 41, CIFAR-10 Batch 1:  loss:     0.0658, Validation Accuracy: 0.652200\n",
      "Epoch 41, CIFAR-10 Batch 2:  loss:     0.0257, Validation Accuracy: 0.647800\n",
      "Epoch 41, CIFAR-10 Batch 3:  loss:     0.0316, Validation Accuracy: 0.651400\n",
      "Epoch 41, CIFAR-10 Batch 4:  loss:     0.0369, Validation Accuracy: 0.643000\n",
      "Epoch 41, CIFAR-10 Batch 5:  loss:     0.0446, Validation Accuracy: 0.658200\n",
      "Epoch 42, CIFAR-10 Batch 1:  loss:     0.0505, Validation Accuracy: 0.643000\n",
      "Epoch 42, CIFAR-10 Batch 2:  loss:     0.0245, Validation Accuracy: 0.653200\n",
      "Epoch 42, CIFAR-10 Batch 3:  loss:     0.0300, Validation Accuracy: 0.653800\n",
      "Epoch 42, CIFAR-10 Batch 4:  loss:     0.0363, Validation Accuracy: 0.644800\n",
      "Epoch 42, CIFAR-10 Batch 5:  loss:     0.0330, Validation Accuracy: 0.658800\n",
      "Epoch 43, CIFAR-10 Batch 1:  loss:     0.0726, Validation Accuracy: 0.642200\n",
      "Epoch 43, CIFAR-10 Batch 2:  loss:     0.0191, Validation Accuracy: 0.647000\n"
     ]
    },
    {
     "name": "stdout",
     "output_type": "stream",
     "text": [
      "Epoch 43, CIFAR-10 Batch 3:  loss:     0.0182, Validation Accuracy: 0.642400\n",
      "Epoch 43, CIFAR-10 Batch 4:  loss:     0.0280, Validation Accuracy: 0.649600\n",
      "Epoch 43, CIFAR-10 Batch 5:  loss:     0.0291, Validation Accuracy: 0.653600\n",
      "Epoch 44, CIFAR-10 Batch 1:  loss:     0.0434, Validation Accuracy: 0.645800\n",
      "Epoch 44, CIFAR-10 Batch 2:  loss:     0.0238, Validation Accuracy: 0.653400\n",
      "Epoch 44, CIFAR-10 Batch 3:  loss:     0.0171, Validation Accuracy: 0.647600\n",
      "Epoch 44, CIFAR-10 Batch 4:  loss:     0.0288, Validation Accuracy: 0.638400\n",
      "Epoch 44, CIFAR-10 Batch 5:  loss:     0.0284, Validation Accuracy: 0.657000\n",
      "Epoch 45, CIFAR-10 Batch 1:  loss:     0.0469, Validation Accuracy: 0.633800\n",
      "Epoch 45, CIFAR-10 Batch 2:  loss:     0.0143, Validation Accuracy: 0.652400\n",
      "Epoch 45, CIFAR-10 Batch 3:  loss:     0.0164, Validation Accuracy: 0.649600\n",
      "Epoch 45, CIFAR-10 Batch 4:  loss:     0.0288, Validation Accuracy: 0.643800\n",
      "Epoch 45, CIFAR-10 Batch 5:  loss:     0.0356, Validation Accuracy: 0.648000\n",
      "Epoch 46, CIFAR-10 Batch 1:  loss:     0.0394, Validation Accuracy: 0.640800\n",
      "Epoch 46, CIFAR-10 Batch 2:  loss:     0.0190, Validation Accuracy: 0.651600\n",
      "Epoch 46, CIFAR-10 Batch 3:  loss:     0.0188, Validation Accuracy: 0.637200\n",
      "Epoch 46, CIFAR-10 Batch 4:  loss:     0.0217, Validation Accuracy: 0.644400\n",
      "Epoch 46, CIFAR-10 Batch 5:  loss:     0.0274, Validation Accuracy: 0.652200\n",
      "Epoch 47, CIFAR-10 Batch 1:  loss:     0.0356, Validation Accuracy: 0.650200\n",
      "Epoch 47, CIFAR-10 Batch 2:  loss:     0.0141, Validation Accuracy: 0.651400\n",
      "Epoch 47, CIFAR-10 Batch 3:  loss:     0.0124, Validation Accuracy: 0.638200\n",
      "Epoch 47, CIFAR-10 Batch 4:  loss:     0.0222, Validation Accuracy: 0.640400\n",
      "Epoch 47, CIFAR-10 Batch 5:  loss:     0.0157, Validation Accuracy: 0.645600\n",
      "Epoch 48, CIFAR-10 Batch 1:  loss:     0.0352, Validation Accuracy: 0.637400\n",
      "Epoch 48, CIFAR-10 Batch 2:  loss:     0.0138, Validation Accuracy: 0.648400\n",
      "Epoch 48, CIFAR-10 Batch 3:  loss:     0.0185, Validation Accuracy: 0.647800\n",
      "Epoch 48, CIFAR-10 Batch 4:  loss:     0.0247, Validation Accuracy: 0.638800\n",
      "Epoch 48, CIFAR-10 Batch 5:  loss:     0.0277, Validation Accuracy: 0.652000\n",
      "Epoch 49, CIFAR-10 Batch 1:  loss:     0.0376, Validation Accuracy: 0.646800\n",
      "Epoch 49, CIFAR-10 Batch 2:  loss:     0.0194, Validation Accuracy: 0.640400\n",
      "Epoch 49, CIFAR-10 Batch 3:  loss:     0.0129, Validation Accuracy: 0.641200\n",
      "Epoch 49, CIFAR-10 Batch 4:  loss:     0.0297, Validation Accuracy: 0.634000\n",
      "Epoch 49, CIFAR-10 Batch 5:  loss:     0.0199, Validation Accuracy: 0.640600\n",
      "Epoch 50, CIFAR-10 Batch 1:  loss:     0.0398, Validation Accuracy: 0.637600\n",
      "Epoch 50, CIFAR-10 Batch 2:  loss:     0.0170, Validation Accuracy: 0.641800\n",
      "Epoch 50, CIFAR-10 Batch 3:  loss:     0.0147, Validation Accuracy: 0.644200\n",
      "Epoch 50, CIFAR-10 Batch 4:  loss:     0.0239, Validation Accuracy: 0.629800\n",
      "Epoch 50, CIFAR-10 Batch 5:  loss:     0.0356, Validation Accuracy: 0.645600\n"
     ]
    }
   ],
   "source": [
    "\"\"\"\n",
    "DON'T MODIFY ANYTHING IN THIS CELL\n",
    "\"\"\"\n",
    "save_model_path = './image_classification'\n",
    "\n",
    "print('Training...')\n",
    "with tf.Session() as sess:\n",
    "    # Initializing the variables\n",
    "    sess.run(tf.global_variables_initializer())\n",
    "    \n",
    "    # Training cycle\n",
    "    for epoch in range(epochs):\n",
    "        # Loop over all batches\n",
    "        n_batches = 5\n",
    "        for batch_i in range(1, n_batches + 1):\n",
    "            for batch_features, batch_labels in helper.load_preprocess_training_batch(batch_i, batch_size):\n",
    "                train_neural_network(sess, optimizer, keep_probability, batch_features, batch_labels)\n",
    "            print('Epoch {:>2}, CIFAR-10 Batch {}:  '.format(epoch + 1, batch_i), end='')\n",
    "            print_stats(sess, batch_features, batch_labels, cost, accuracy)\n",
    "            \n",
    "    # Save Model\n",
    "    saver = tf.train.Saver()\n",
    "    save_path = saver.save(sess, save_model_path)"
   ]
  },
  {
   "cell_type": "markdown",
   "metadata": {},
   "source": [
    "\n",
    "## 测试模型\n",
    "\n",
    "利用测试数据集测试模型。"
   ]
  },
  {
   "cell_type": "code",
   "execution_count": 19,
   "metadata": {},
   "outputs": [
    {
     "name": "stdout",
     "output_type": "stream",
     "text": [
      "INFO:tensorflow:Restoring parameters from ./image_classification\n",
      "Testing Accuracy: 0.6465585443037974\n",
      "\n"
     ]
    },
    {
     "data": {
      "image/png": "[encoded data removed]",
      "text/plain": [
       "<matplotlib.figure.Figure at 0x26c89117518>"
      ]
     },
     "metadata": {
      "image/png": {
       "height": 319,
       "width": 350
      }
     },
     "output_type": "display_data"
    }
   ],
   "source": [
    "\"\"\"\n",
    "DON'T MODIFY ANYTHING IN THIS CELL\n",
    "\"\"\"\n",
    "%matplotlib inline\n",
    "%config InlineBackend.figure_format = 'retina'\n",
    "\n",
    "import tensorflow as tf\n",
    "import pickle\n",
    "import helper\n",
    "import random\n",
    "\n",
    "# Set batch size if not already set\n",
    "try:\n",
    "    if batch_size:\n",
    "        pass\n",
    "except NameError:\n",
    "    batch_size = 64\n",
    "\n",
    "save_model_path = './image_classification'\n",
    "n_samples = 4\n",
    "top_n_predictions = 3\n",
    "\n",
    "def test_model():\n",
    "    \"\"\"\n",
    "    Test the saved model against the test dataset\n",
    "    \"\"\"\n",
    "\n",
    "    test_features, test_labels = pickle.load(open('preprocess_test.p', mode='rb'))\n",
    "    loaded_graph = tf.Graph()\n",
    "\n",
    "    with tf.Session(graph=loaded_graph) as sess:\n",
    "        # Load model\n",
    "        loader = tf.train.import_meta_graph(save_model_path + '.meta')\n",
    "        loader.restore(sess, save_model_path)\n",
    "\n",
    "        # Get Tensors from loaded model\n",
    "        loaded_x = loaded_graph.get_tensor_by_name('x:0')\n",
    "        loaded_y = loaded_graph.get_tensor_by_name('y:0')\n",
    "        loaded_keep_prob = loaded_graph.get_tensor_by_name('keep_prob:0')\n",
    "        loaded_logits = loaded_graph.get_tensor_by_name('logits:0')\n",
    "        loaded_acc = loaded_graph.get_tensor_by_name('accuracy:0')\n",
    "        \n",
    "        # Get accuracy in batches for memory limitations\n",
    "        test_batch_acc_total = 0\n",
    "        test_batch_count = 0\n",
    "        \n",
    "        for test_feature_batch, test_label_batch in helper.batch_features_labels(test_features, test_labels, batch_size):\n",
    "            test_batch_acc_total += sess.run(\n",
    "                loaded_acc,\n",
    "                feed_dict={loaded_x: test_feature_batch, loaded_y: test_label_batch, loaded_keep_prob: 1.0})\n",
    "            test_batch_count += 1\n",
    "\n",
    "        print('Testing Accuracy: {}\\n'.format(test_batch_acc_total/test_batch_count))\n",
    "\n",
    "        # Print Random Samples\n",
    "        random_test_features, random_test_labels = tuple(zip(*random.sample(list(zip(test_features, test_labels)), n_samples)))\n",
    "        random_test_predictions = sess.run(\n",
    "            tf.nn.top_k(tf.nn.softmax(loaded_logits), top_n_predictions),\n",
    "            feed_dict={loaded_x: random_test_features, loaded_y: random_test_labels, loaded_keep_prob: 1.0})\n",
    "        helper.display_image_predictions(random_test_features, random_test_labels, random_test_predictions)\n",
    "\n",
    "\n",
    "test_model()"
   ]
  },
  {
   "cell_type": "code",
   "execution_count": null,
   "metadata": {},
   "outputs": [],
   "source": []
  }
 ],
 "metadata": {
  "kernelspec": {
   "display_name": "Python 3",
   "language": "python",
   "name": "python3"
  },
  "language_info": {
   "codemirror_mode": {
    "name": "ipython",
    "version": 3
   },
   "file_extension": ".py",
   "mimetype": "text/x-python",
   "name": "python",
   "nbconvert_exporter": "python",
   "pygments_lexer": "ipython3",
   "version": "3.6.4"
  }
 },
 "nbformat": 4,
 "nbformat_minor": 1
}
